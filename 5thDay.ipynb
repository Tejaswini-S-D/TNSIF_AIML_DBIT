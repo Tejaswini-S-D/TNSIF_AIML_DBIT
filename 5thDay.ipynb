{
 "cells": [
  {
   "cell_type": "code",
   "execution_count": null,
   "id": "b9a384d5",
   "metadata": {},
   "outputs": [],
   "source": [
    "tup1 =  (1, 2, 3, 4)"
   ]
  },
  {
   "cell_type": "code",
   "execution_count": null,
   "id": "d43f9728",
   "metadata": {},
   "outputs": [],
   "source": [
    "tup = (3,)\n",
    "\n",
    "tup = ()\n",
    "type(tup)"
   ]
  },
  {
   "cell_type": "code",
   "execution_count": null,
   "id": "050e0b84",
   "metadata": {},
   "outputs": [],
   "source": [
    "tup = tuple([1, 2, 3,4])\n",
    "tup"
   ]
  },
  {
   "cell_type": "code",
   "execution_count": null,
   "id": "58769abb",
   "metadata": {},
   "outputs": [],
   "source": [
    "tup = (1, 2, 3, 4, 5)\n",
    "tup = tup+(7, )\n",
    "tup += (10, )\n",
    "tup"
   ]
  },
  {
   "cell_type": "code",
   "execution_count": null,
   "id": "b4887f5d",
   "metadata": {},
   "outputs": [],
   "source": [
    "Salaries = []\n",
    "n = int(input(\"Enter no of Employees:  \"))\n",
    "\n",
    "for i in range(0, n):\n",
    "    salary = int(input(f\"Enter the {i}th Employee Salary: \"))\n",
    "    Salaries.append(salary)\n",
    "\n",
    "tup_sal = tuple(Salaries)\n",
    "print(f\"Maximum salary among all the employee is:\", max(tup_sal))\n",
    "print(f\"Minimum salary among all the employee is:\", min(tup_sal))"
   ]
  },
  {
   "cell_type": "code",
   "execution_count": null,
   "id": "f7596c0d",
   "metadata": {},
   "outputs": [],
   "source": [
    "## Repitation\n",
    "\n",
    "a = (1, 2, 3)\n",
    "a = a*3\n",
    "a\n",
    "\n",
    "# Iteration\n",
    "\n",
    "for i in a:\n",
    "    print(a[i])"
   ]
  },
  {
   "cell_type": "code",
   "execution_count": null,
   "id": "69c82335",
   "metadata": {},
   "outputs": [],
   "source": [
    "# Write a program to input ‘n’ employee numbers and names and store them in a dictionary. Display dictionaries employee’s names(key) and numbers(values) together.\n",
    "\n",
    "emp = {}\n",
    "\n",
    "n = int(input(\"Enter the number of employees\"))\n",
    "\n",
    "for i in range(n):\n",
    "    name = input(\"Enter the name: \")\n",
    "    number = input(\"Enter the number: \")\n",
    "    \n",
    "    emp[name] = number\n",
    "\n",
    "print(\"\\n\")\n",
    "for name, number in emp.items():\n",
    "\n",
    "    print(f\"Name: {name}, Number: {number}\")"
   ]
  }
 ],
 "metadata": {
  "language_info": {
   "name": "python"
  }
 },
 "nbformat": 4,
 "nbformat_minor": 5
}
