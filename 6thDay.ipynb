{
 "cells": [
  {
   "cell_type": "code",
   "execution_count": null,
   "id": "aab76964",
   "metadata": {},
   "outputs": [],
   "source": [
    "import numpy as np\n",
    "\n",
    "arr1 = np.array([1, 2, 3, 4, 5]) #1D array\n",
    "arr2 = np.array([[1, 2, 3], [4, 5, 6]]) #2D array\n",
    "\n",
    "print(\"1 Dimensional array\", arr1)\n",
    "print(\"2 Dimensional array\",arr2)"
   ]
  },
  {
   "cell_type": "code",
   "execution_count": null,
   "id": "d4eb03d7",
   "metadata": {},
   "outputs": [],
   "source": [
    "arr3 =np.arange(12).reshape(3, 4)\n",
    "arr3"
   ]
  },
  {
   "cell_type": "code",
   "execution_count": null,
   "id": "d27d7e4a",
   "metadata": {},
   "outputs": [],
   "source": [
    "print(arr1 * 2)\n",
    "print(arr1 + arr1)"
   ]
  },
  {
   "cell_type": "code",
   "execution_count": null,
   "id": "303df80f",
   "metadata": {},
   "outputs": [],
   "source": [
    "# matrix operations\n",
    "\n",
    "mat1 = np.array([[1, 2], [3, 4]])\n",
    "mat2 = np.array([[5, 6], [7, 8]])\n",
    "\n",
    "print(np.dot(mat1, mat2))"
   ]
  },
  {
   "cell_type": "code",
   "execution_count": null,
   "id": "dd62353f",
   "metadata": {},
   "outputs": [],
   "source": [
    "# Statistical operations\n",
    "\n",
    "data = np.random.normal(0, 1, 1000)\n",
    "print(f'mean: {round(data.mean())}, std: {round(data.std())}')\n"
   ]
  },
  {
   "cell_type": "code",
   "execution_count": null,
   "id": "735af0af",
   "metadata": {},
   "outputs": [],
   "source": [
    "# Slicing\n",
    "\n",
    "print(mat1[1, 1])\n",
    "print(mat1[:, 1])"
   ]
  },
  {
   "cell_type": "code",
   "execution_count": null,
   "id": "6a4b044f",
   "metadata": {},
   "outputs": [],
   "source": []
  },
  {
   "cell_type": "code",
   "execution_count": null,
   "id": "ba7145b7",
   "metadata": {},
   "outputs": [],
   "source": []
  },
  {
   "cell_type": "code",
   "execution_count": null,
   "id": "8c01e98e",
   "metadata": {},
   "outputs": [],
   "source": []
  },
  {
   "cell_type": "code",
   "execution_count": null,
   "id": "8fb60908",
   "metadata": {},
   "outputs": [],
   "source": [
    "# Importing the Pandas\n",
    "\n",
    "import pandas as pd"
   ]
  },
  {
   "cell_type": "code",
   "execution_count": null,
   "id": "4370df10",
   "metadata": {},
   "outputs": [],
   "source": [
    "data = {\n",
    "    'Name': ['alice', 'bob', 'charlie', 'david'],\n",
    "    'Age': [25, 30, 35, 40],\n",
    "    'Salary': [50000, 60000, 70000, 80000]\n",
    "}\n",
    "\n",
    "df = pd.DataFrame(data)\n",
    "df"
   ]
  },
  {
   "cell_type": "code",
   "execution_count": null,
   "id": "cc243371",
   "metadata": {},
   "outputs": [],
   "source": [
    "# Basic Operations\n",
    "\n",
    "print(df.head(2))\n",
    "print(df.describe())"
   ]
  },
  {
   "cell_type": "code",
   "execution_count": null,
   "id": "a58a1f59",
   "metadata": {},
   "outputs": [],
   "source": [
    "print(df['Age'].mean())"
   ]
  },
  {
   "cell_type": "code",
   "execution_count": null,
   "id": "7836480d",
   "metadata": {},
   "outputs": [],
   "source": [
    "df_with_nan = pd.DataFrame({\n",
    "    'A': [1,2, np.nan, 4],\n",
    "    'B': [5, np.nan, np.nan, 8 ]\n",
    "})\n",
    "\n",
    "print(df_with_nan.fillna(value=0))"
   ]
  },
  {
   "cell_type": "code",
   "execution_count": null,
   "id": "a5be6e4b",
   "metadata": {},
   "outputs": [],
   "source": [
    "print(df_with_nan.dropna())"
   ]
  },
  {
   "cell_type": "code",
   "execution_count": null,
   "id": "e22fe6de",
   "metadata": {},
   "outputs": [],
   "source": [
    "# Grouping and Aggregation\n",
    "\n",
    "df['Department'] = ['HR', 'Tech', 'Tech', 'HR']\n",
    "print(df.groupby('Department').mean())\n",
    "df"
   ]
  },
  {
   "cell_type": "code",
   "execution_count": null,
   "id": "f7608015",
   "metadata": {},
   "outputs": [],
   "source": [
    "df2 = pd.DataFrame({\n",
    "    'Name': ['Alice']\n",
    "})"
   ]
  }
 ],
 "metadata": {
  "language_info": {
   "name": "python"
  }
 },
 "nbformat": 4,
 "nbformat_minor": 5
}
