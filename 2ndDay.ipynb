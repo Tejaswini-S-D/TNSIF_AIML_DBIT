{
 "cells": [
  {
   "cell_type": "code",
   "execution_count": null,
   "id": "54243636",
   "metadata": {},
   "outputs": [],
   "source": [
    "sum = 0\n",
    "while True:\n",
    "    sum += int(input(\"Enter the input: \"))\n",
    "    print(sum)\n",
    "    \n",
    "    if sum >= 300:\n",
    "        print(\"The sum is exeeded 300\")\n",
    "        break"
   ]
  },
  {
   "cell_type": "code",
   "execution_count": null,
   "id": "ec3d0416",
   "metadata": {},
   "outputs": [],
   "source": [
    "while True:\n",
    "    string = input(\"Enter a string: \")\n",
    "    if string == \"Bon\":\n",
    "        print(\"Voyage\")\n",
    "        break"
   ]
  },
  {
   "cell_type": "code",
   "execution_count": null,
   "id": "4bf5d017",
   "metadata": {},
   "outputs": [],
   "source": [
    "door = input(\"Enter the Door Number: \")\n",
    "\n",
    "numbers = \"0123456789\"\n",
    "\n",
    "num = ''\n",
    "for i in door:\n",
    "    if i in numbers:\n",
    "        num += i\n",
    "    \n",
    "print(num)"
   ]
  },
  {
   "cell_type": "code",
   "execution_count": null,
   "id": "50bab0b4",
   "metadata": {},
   "outputs": [],
   "source": [
    "elements = []\n",
    "for i in range(5):\n",
    "    elements += input(f\"Enter the {i}th element: \")\n",
    "\n",
    "print(elements)\n",
    "\n",
    "elements[2] = input(\"Enter the 3rd element have to be replaced: \")\n",
    "elements[4] = input(\"Enter the 5th element have to be replaced: \")\n",
    "\n",
    "print(f'after replaced 3rd and 5th elements: ', elements)"
   ]
  },
  {
   "cell_type": "code",
   "execution_count": null,
   "id": "051ddf21",
   "metadata": {},
   "outputs": [],
   "source": [
    "li = []\n",
    "n = int(input(\"Enter how many elements to be inserted : \"))\n",
    "\n",
    "for i in range(n):\n",
    "    li += input(f\"Enter the {i}th Element: \")\n",
    "    \n",
    "print(li)\n",
    "\n",
    "index = int(input(\"Enter the index :\"))\n",
    "\n",
    "if index <= n:\n",
    "    element = input(\"Enter the element wants to be inserted: \")\n",
    "    li.insert(index, element)\n",
    "    print(\"The new element has been inserted ...\")\n",
    "    print(li)\n",
    "    \n",
    "else:\n",
    "    print(\"An index is out of range..\")\n",
    "    "
   ]
  },
  {
   "cell_type": "code",
   "execution_count": null,
   "id": "7d972264",
   "metadata": {},
   "outputs": [],
   "source": [
    "word = 'fan'\n",
    "vowels = ['a', 'e', 'e', 'i', 'o', 'u']\n",
    "\n",
    "for i in word:\n",
    "    if i in vowels:\n",
    "        continue\n",
    "    else:\n",
    "        print(i, end='')"
   ]
  },
  {
   "cell_type": "code",
   "execution_count": null,
   "id": "7d41d132",
   "metadata": {},
   "outputs": [],
   "source": [
    "def format(email):\n",
    "    return email.replace('[dot]', '.').replace('[at]', '@')\n",
    "\n",
    "\n",
    "with open(\"fake_emails.txt\", \"r\") as f:\n",
    "    emails = f.readlines()\n",
    "\n",
    "with open(\"fixed_emails.txt\", \"w\") as f:\n",
    "    for e in emails:\n",
    "        f.write(format(e.strip()) + '\\n')"
   ]
  }
 ],
 "metadata": {
  "language_info": {
   "name": "python"
  }
 },
 "nbformat": 4,
 "nbformat_minor": 5
}
