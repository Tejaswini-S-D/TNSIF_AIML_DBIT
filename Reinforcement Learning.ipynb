{
 "cells": [
  {
   "cell_type": "code",
   "execution_count": 2,
   "id": "db2f30c2",
   "metadata": {},
   "outputs": [
    {
     "name": "stdout",
     "output_type": "stream",
     "text": [
      "Value Function:\n",
      " -4.69  -4.10  -3.44  -2.71\n",
      " -4.10  -3.44  -2.71  -1.90\n",
      " -3.44  -2.71  -1.90  -1.00\n",
      " -2.71  -1.90  -1.00   0.00\n",
      "\n",
      "Policy:\n",
      " v  v  v  v\n",
      " v  v  v  v\n",
      " v  v  v  v\n",
      " >  >  >  T\n"
     ]
    }
   ],
   "source": [
    "# Simplified Grid World Value Iteration\n",
    "ROWS, COLS, GAMMA, THETA = 4, 4, 0.9, 1e-4\n",
    "TERMINAL = (3, 3)\n",
    "ACTIONS = {'U':(-1,0),'D':(1,0),'L':(0,-1),'R':(0,1)}\n",
    "ARROW = {'U':'^','D':'v','L':'<','R':'>'}\n",
    "\n",
    "def next_state(s,a):\n",
    "    if s==TERMINAL: return s\n",
    "    r,c=s; dr,dc=ACTIONS[a]\n",
    "    return (max(0,min(ROWS-1,r+dr)), max(0,min(COLS-1,c+dc)))\n",
    "\n",
    "states=[(r,c) for r in range(ROWS) for c in range(COLS)]\n",
    "V={s:0 for s in states}\n",
    "\n",
    "# Value Iteration\n",
    "while True:\n",
    "    delta=0; newV=V.copy()\n",
    "    for s in states:\n",
    "        if s==TERMINAL: continue\n",
    "        newV[s]=max(-1+GAMMA*V[next_state(s,a)] for a in ACTIONS)\n",
    "        delta=max(delta,abs(V[s]-newV[s]))\n",
    "    V=newV\n",
    "    if delta<THETA: break\n",
    "\n",
    "# Policy Extraction\n",
    "policy={}\n",
    "for s in states:\n",
    "    if s==TERMINAL: policy[s]='T'; continue\n",
    "    policy[s]=ARROW[max(ACTIONS,key=lambda a:-1+GAMMA*V[next_state(s,a)])]\n",
    "\n",
    "# Display\n",
    "print(\"Value Function:\")\n",
    "for r in range(ROWS):\n",
    "    print(\" \".join(f\"{V[(r,c)]:6.2f}\" for c in range(COLS)))\n",
    "print(\"\\nPolicy:\")\n",
    "for r in range(ROWS):\n",
    "    print(\" \".join(f\"{policy[(r,c)]:>2}\" for c in range(COLS)))\n"
   ]
  }
 ],
 "metadata": {
  "kernelspec": {
   "display_name": "base",
   "language": "python",
   "name": "python3"
  },
  "language_info": {
   "codemirror_mode": {
    "name": "ipython",
    "version": 3
   },
   "file_extension": ".py",
   "mimetype": "text/x-python",
   "name": "python",
   "nbconvert_exporter": "python",
   "pygments_lexer": "ipython3",
   "version": "3.12.7"
  }
 },
 "nbformat": 4,
 "nbformat_minor": 5
}
