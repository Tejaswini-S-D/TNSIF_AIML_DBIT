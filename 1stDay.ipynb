{
 "cells": [
  {
   "cell_type": "code",
   "execution_count": 1,
   "id": "5d1d8d31",
   "metadata": {},
   "outputs": [
    {
     "name": "stdout",
     "output_type": "stream",
     "text": [
      "Hello World\n"
     ]
    }
   ],
   "source": [
    "print(\"Hello World\")"
   ]
  },
  {
   "cell_type": "code",
   "execution_count": 2,
   "id": "bbb70735",
   "metadata": {},
   "outputs": [
    {
     "name": "stdout",
     "output_type": "stream",
     "text": [
      "Validating your password...\n",
      "Login Successful..\n",
      "\n",
      "Fetching your Current balance...\n",
      "Current Balance: 2000\n"
     ]
    }
   ],
   "source": [
    "import time\n",
    "\n",
    "def check_balance():\n",
    "    password = \"1928\"\n",
    "    balance = 2000\n",
    "    attempts = 3\n",
    "\n",
    "    while attempts > 0:\n",
    "        user_pass = input(\"Enter your password to check the balance: \")\n",
    "\n",
    "        print(\"Validating your password\", end=\"\")\n",
    "        for _ in range(3):\n",
    "            time.sleep(1)\n",
    "            print(\".\", end=\"\")\n",
    "        print()\n",
    "\n",
    "        if user_pass == password:\n",
    "            print(\"Login Successful..\\n\")\n",
    "            print(\"Fetching your Current balance\", end=\"\")\n",
    "            for _ in range(3):\n",
    "                time.sleep(1)\n",
    "                print(\".\", end=\"\")\n",
    "            print()\n",
    "            print(f\"Current Balance: {balance}\")\n",
    "            return\n",
    "        else:\n",
    "            attempts -= 1\n",
    "            print(\"Wrong password!\")\n",
    "            print(f\"You have {attempts} attempt(s) left.\\n\")\n",
    "\n",
    "    print(\"Your account has been Blocked\")\n",
    "    print(\"For further clarification, contact customer care.\")\n",
    "\n",
    "check_balance()\n",
    "\n"
   ]
  }
 ],
 "metadata": {
  "kernelspec": {
   "display_name": "base",
   "language": "python",
   "name": "python3"
  },
  "language_info": {
   "codemirror_mode": {
    "name": "ipython",
    "version": 3
   },
   "file_extension": ".py",
   "mimetype": "text/x-python",
   "name": "python",
   "nbconvert_exporter": "python",
   "pygments_lexer": "ipython3",
   "version": "3.12.7"
  }
 },
 "nbformat": 4,
 "nbformat_minor": 5
}
