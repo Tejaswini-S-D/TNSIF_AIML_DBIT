{
 "cells": [
  {
   "cell_type": "code",
   "execution_count": 24,
   "id": "4ed1c0eb",
   "metadata": {},
   "outputs": [],
   "source": [
    "dataset = [\n",
    "    ['Coffee', 'Donut', 'Sandwich'],\n",
    "    ['Coffee', 'Donut'],\n",
    "    ['Coffee', 'Sandwich'],\n",
    "    ['Coffee', 'Muffin'],\n",
    "    ['Donut', 'Muffin']\n",
    "]\n"
   ]
  },
  {
   "cell_type": "code",
   "execution_count": 25,
   "id": "e4155f39",
   "metadata": {},
   "outputs": [
    {
     "name": "stdout",
     "output_type": "stream",
     "text": [
      "Transaction 1: ['Coffee', 'Donut', 'Sandwich']\n",
      "Transaction 2: ['Coffee', 'Donut']\n",
      "Transaction 3: ['Coffee', 'Sandwich']\n",
      "Transaction 4: ['Coffee', 'Muffin']\n",
      "Transaction 5: ['Donut', 'Muffin']\n"
     ]
    }
   ],
   "source": [
    "for i, t in enumerate(dataset, 1):\n",
    "    print(f\"Transaction {i}: {t}\")\n"
   ]
  },
  {
   "cell_type": "code",
   "execution_count": 26,
   "id": "49b5085c",
   "metadata": {},
   "outputs": [
    {
     "name": "stdout",
     "output_type": "stream",
     "text": [
      "   Coffee  Donut  Muffin  Sandwich\n",
      "0    True   True   False      True\n",
      "1    True   True   False     False\n",
      "2    True  False   False      True\n",
      "3    True  False    True     False\n",
      "4   False   True    True     False\n"
     ]
    }
   ],
   "source": [
    "import pandas as pd\n",
    "\n",
    "items = sorted({item for trans in dataset for item in trans})\n",
    "df = pd.DataFrame([{item: (item in trans) for item in items} for trans in dataset])\n",
    "print(df)\n"
   ]
  },
  {
   "cell_type": "code",
   "execution_count": 27,
   "id": "158628ab",
   "metadata": {},
   "outputs": [
    {
     "name": "stdout",
     "output_type": "stream",
     "text": [
      "Frequent Itemsets (support ≥ 0.4):\n",
      "(frozenset({'Coffee'}), 0.8)\n",
      "(frozenset({'Donut'}), 0.6)\n",
      "(frozenset({'Muffin'}), 0.4)\n",
      "(frozenset({'Sandwich'}), 0.4)\n",
      "(frozenset({'Donut', 'Coffee'}), 0.4)\n",
      "(frozenset({'Coffee', 'Sandwich'}), 0.4)\n"
     ]
    }
   ],
   "source": [
    "from itertools import combinations\n",
    "\n",
    "def support(itemset):\n",
    "    count = sum(all(i in trans for i in itemset) for trans in dataset)\n",
    "    return count / len(dataset)\n",
    "\n",
    "min_support = 0.4\n",
    "frequent_itemsets = []\n",
    "\n",
    "# Single items\n",
    "for item in items:\n",
    "    sup = support([item])\n",
    "    if sup >= min_support:\n",
    "        frequent_itemsets.append((frozenset([item]), sup))\n",
    "\n",
    "# Pairs\n",
    "for pair in combinations(items, 2):\n",
    "    sup = support(pair)\n",
    "    if sup >= min_support:\n",
    "        frequent_itemsets.append((frozenset(pair), sup))\n",
    "\n",
    "print(\"Frequent Itemsets (support ≥ 0.4):\")\n",
    "for i in frequent_itemsets:\n",
    "    print(i)\n"
   ]
  },
  {
   "cell_type": "code",
   "execution_count": 28,
   "id": "da54858f",
   "metadata": {},
   "outputs": [
    {
     "name": "stdout",
     "output_type": "stream",
     "text": [
      "Association Rules:\n",
      "{'Donut'} → {'Coffee'}, support=0.40, confidence=0.67, lift=0.83\n",
      "{'Coffee'} → {'Donut'}, support=0.40, confidence=0.50, lift=0.83\n",
      "{'Coffee'} → {'Sandwich'}, support=0.40, confidence=0.50, lift=1.25\n",
      "{'Sandwich'} → {'Coffee'}, support=0.40, confidence=1.00, lift=1.25\n"
     ]
    }
   ],
   "source": [
    "rules = []\n",
    "for itemset, sup in frequent_itemsets:\n",
    "    if len(itemset) > 1:\n",
    "        for A_size in range(1, len(itemset)):\n",
    "            for A in combinations(itemset, A_size):\n",
    "                A, B = set(A), itemset - set(A)\n",
    "                sup_AB = support(itemset)\n",
    "                sup_A = support(A)\n",
    "                sup_B = support(B)\n",
    "                conf = sup_AB / sup_A\n",
    "                lift = conf / sup_B\n",
    "                rules.append((A, B, sup_AB, conf, lift))\n",
    "\n",
    "print(\"Association Rules:\")\n",
    "for r in rules:\n",
    "    print(f\"{set(r[0])} → {set(r[1])}, support={r[2]:.2f}, confidence={r[3]:.2f}, lift={r[4]:.2f}\")\n"
   ]
  },
  {
   "cell_type": "code",
   "execution_count": 29,
   "id": "262c2bfe",
   "metadata": {},
   "outputs": [
    {
     "name": "stdout",
     "output_type": "stream",
     "text": [
      "Strong Rules:\n",
      "{'Donut'} → {'Coffee'}, support=0.40, confidence=0.67, lift=0.83\n",
      "{'Sandwich'} → {'Coffee'}, support=0.40, confidence=1.00, lift=1.25\n"
     ]
    }
   ],
   "source": [
    "strong_rules = [r for r in rules if r[2] >= 0.4 and r[3] >= 0.6]\n",
    "print(\"Strong Rules:\")\n",
    "for r in strong_rules:\n",
    "    print(f\"{set(r[0])} → {set(r[1])}, support={r[2]:.2f}, confidence={r[3]:.2f}, lift={r[4]:.2f}\")\n"
   ]
  },
  {
   "cell_type": "code",
   "execution_count": 30,
   "id": "b45914cf",
   "metadata": {},
   "outputs": [
    {
     "name": "stdout",
     "output_type": "stream",
     "text": [
      "If a customer buys ['Donut'], they are likely to buy ['Coffee'].\n",
      "Support=0.40, Confidence=0.67, Lift=0.83\n",
      "\n",
      "If a customer buys ['Sandwich'], they are likely to buy ['Coffee'].\n",
      "Support=0.40, Confidence=1.00, Lift=1.25\n",
      "\n"
     ]
    }
   ],
   "source": [
    "for r in strong_rules:\n",
    "    A, B, sup, conf, lift = r\n",
    "    print(f\"If a customer buys {list(A)}, they are likely to buy {list(B)}.\")\n",
    "    print(f\"Support={sup:.2f}, Confidence={conf:.2f}, Lift={lift:.2f}\\n\")\n"
   ]
  },
  {
   "cell_type": "code",
   "execution_count": 31,
   "id": "c6652ecf",
   "metadata": {},
   "outputs": [
    {
     "name": "stdout",
     "output_type": "stream",
     "text": [
      "Rules with min_support=0.4, min_conf=0.6:\n",
      "[({'Donut'}, frozenset({'Coffee'}), 0.4, 0.6666666666666667, 0.8333333333333334), ({'Sandwich'}, frozenset({'Coffee'}), 0.4, 1.0, 1.25)]\n",
      "\n",
      "Rules with min_support=0.2, min_conf=0.5:\n",
      "[({'Donut'}, frozenset({'Coffee'}), 0.4, 0.6666666666666667, 0.8333333333333334), ({'Coffee'}, frozenset({'Donut'}), 0.4, 0.5, 0.8333333333333334), ({'Muffin'}, frozenset({'Coffee'}), 0.2, 0.5, 0.625), ({'Coffee'}, frozenset({'Sandwich'}), 0.4, 0.5, 1.25), ({'Sandwich'}, frozenset({'Coffee'}), 0.4, 1.0, 1.25), ({'Muffin'}, frozenset({'Donut'}), 0.2, 0.5, 0.8333333333333334), ({'Sandwich'}, frozenset({'Donut'}), 0.2, 0.5, 0.8333333333333334)]\n"
     ]
    }
   ],
   "source": [
    "def generate_rules(min_support=0.4, min_conf=0.6):\n",
    "    frequent_itemsets = []\n",
    "    for item in items:\n",
    "        sup = support([item])\n",
    "        if sup >= min_support:\n",
    "            frequent_itemsets.append((frozenset([item]), sup))\n",
    "    for pair in combinations(items, 2):\n",
    "        sup = support(pair)\n",
    "        if sup >= min_support:\n",
    "            frequent_itemsets.append((frozenset(pair), sup))\n",
    "\n",
    "    rules = []\n",
    "    for itemset, sup in frequent_itemsets:\n",
    "        if len(itemset) > 1:\n",
    "            for A_size in range(1, len(itemset)):\n",
    "                for A in combinations(itemset, A_size):\n",
    "                    A, B = set(A), itemset - set(A)\n",
    "                    sup_AB = support(itemset)\n",
    "                    sup_A = support(A)\n",
    "                    sup_B = support(B)\n",
    "                    conf = sup_AB / sup_A\n",
    "                    lift = conf / sup_B\n",
    "                    if sup_AB >= min_support and conf >= min_conf:\n",
    "                        rules.append((A, B, sup_AB, conf, lift))\n",
    "    return rules\n",
    "\n",
    "# Try with different thresholds\n",
    "print(\"Rules with min_support=0.4, min_conf=0.6:\")\n",
    "print(generate_rules(0.4, 0.6))\n",
    "\n",
    "print(\"\\nRules with min_support=0.2, min_conf=0.5:\")\n",
    "print(generate_rules(0.2, 0.5))\n"
   ]
  },
  {
   "cell_type": "code",
   "execution_count": 32,
   "id": "fd845d75",
   "metadata": {},
   "outputs": [
    {
     "name": "stdout",
     "output_type": "stream",
     "text": [
      "Rules with Lift > 1 (good associations):\n",
      "{'Coffee'} → {'Sandwich'}, lift=1.25\n",
      "{'Sandwich'} → {'Coffee'}, lift=1.25\n"
     ]
    }
   ],
   "source": [
    "print(\"Rules with Lift > 1 (good associations):\")\n",
    "for r in rules:\n",
    "    if r[4] > 1:\n",
    "        print(f\"{set(r[0])} → {set(r[1])}, lift={r[4]:.2f}\")\n"
   ]
  }
 ],
 "metadata": {
  "kernelspec": {
   "display_name": "base",
   "language": "python",
   "name": "python3"
  },
  "language_info": {
   "codemirror_mode": {
    "name": "ipython",
    "version": 3
   },
   "file_extension": ".py",
   "mimetype": "text/x-python",
   "name": "python",
   "nbconvert_exporter": "python",
   "pygments_lexer": "ipython3",
   "version": "3.12.7"
  }
 },
 "nbformat": 4,
 "nbformat_minor": 5
}
