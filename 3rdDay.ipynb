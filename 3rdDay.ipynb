{
 "cells": [
  {
   "cell_type": "code",
   "execution_count": null,
   "id": "3db9fb9e",
   "metadata": {},
   "outputs": [],
   "source": [
    "li = ['orange', 'blue', 'black', 'pink']\n",
    "\n",
    "li.pop()\n",
    "li.remove('orange')\n",
    "print(li)"
   ]
  },
  {
   "cell_type": "code",
   "execution_count": null,
   "id": "027de560",
   "metadata": {},
   "outputs": [],
   "source": [
    "li =[]\n",
    "for i in range(10):\n",
    "    ele = int(input(f\"Enter the {str(i)}th element: \"))\n",
    "    li += [ele]\n",
    "n = len(li)\n",
    "\n",
    "li.pop(2)\n",
    "\n",
    "li = [x for x in li if x % 2 == 0]\n",
    "li"
   ]
  },
  {
   "cell_type": "code",
   "execution_count": null,
   "id": "c66d0efd",
   "metadata": {},
   "outputs": [],
   "source": [
    "li = [10, 9, 8, 7, 6, 5, 4, 3, 2, 1]\n",
    "\n",
    "li.sort()\n",
    "print(li)\n",
    "\n",
    "li.reverse()\n",
    "li"
   ]
  },
  {
   "cell_type": "code",
   "execution_count": null,
   "id": "99b7289c",
   "metadata": {},
   "outputs": [],
   "source": [
    "a = [2, 3, [2, 3]]\n",
    "\n",
    "a[0]\n",
    "a[2]\n",
    "\n",
    "k = ['a', 'p', 'd','a' ,'f','a','n']\n",
    "\n",
    "k.remove('a')\n",
    "print(k)\n",
    "k.reverse()\n",
    "k.remove('a')\n",
    "print(k)"
   ]
  }
 ],
 "metadata": {
  "language_info": {
   "name": "python"
  }
 },
 "nbformat": 4,
 "nbformat_minor": 5
}
