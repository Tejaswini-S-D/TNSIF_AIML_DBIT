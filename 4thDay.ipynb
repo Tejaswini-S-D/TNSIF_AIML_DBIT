{
 "cells": [
  {
   "cell_type": "code",
   "execution_count": null,
   "id": "b7dc00d8",
   "metadata": {},
   "outputs": [],
   "source": [
    "phonebook={\"alice\":1234,\"bob\":5678,\"david\":9123,\"Thomas\":4567}\n",
    "print(phonebook)\n",
    "\n",
    "name = input(\"Enter the name whose number to be modified\")\n",
    "if name in phonebook:\n",
    "    newnumb = input(\"Enter the new number\")\n",
    "    phonebook[name] = newnumb\n",
    "    print(\"Modified successfully\")\n",
    "    print(phonebook)\n",
    "else:\n",
    "    print(name, \"was not found.\")"
   ]
  },
  {
   "cell_type": "code",
   "execution_count": null,
   "id": "665c9362",
   "metadata": {},
   "outputs": [],
   "source": [
    "phonebook={\"alice\":1234,\"bob\":5678,\"david\":9123}\n",
    "print(phonebook)\n",
    "\n",
    "phonebook[\"Thomas\"] = 4567\n",
    "print(phonebook)\n",
    "\n",
    "phonebook.update({\"alen\":1928})\n",
    "print(phonebook)"
   ]
  },
  {
   "cell_type": "code",
   "execution_count": null,
   "id": "3464c394",
   "metadata": {},
   "outputs": [],
   "source": [
    "phonebook={\"alice\":1234,\"bob\":5678,\"david\":9123,\"Thomas\":4567}\n",
    "print(phonebook)\n",
    "\n",
    "name = input(\"enter the name to delete:\")\n",
    "if name in phonebook:\n",
    "    del phonebook[name]\n",
    "    print (\"delete successfully\")\n",
    "    print (phonebook)\n",
    "else:\n",
    "    print (name,\"was not found\")"
   ]
  },
  {
   "cell_type": "code",
   "execution_count": null,
   "id": "0dc61802",
   "metadata": {},
   "outputs": [],
   "source": [
    "phonebook={\"alice\":1234,\"bob\":5678,\"david\":9123,\"Thomas\":4567}\n",
    "phonebook.clear()\n",
    "print(phonebook)"
   ]
  }
 ],
 "metadata": {
  "language_info": {
   "name": "python"
  }
 },
 "nbformat": 4,
 "nbformat_minor": 5
}
